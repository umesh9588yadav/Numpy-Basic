{
  "nbformat": 4,
  "nbformat_minor": 0,
  "metadata": {
    "colab": {
      "provenance": []
    },
    "kernelspec": {
      "name": "python3",
      "display_name": "Python 3"
    },
    "language_info": {
      "name": "python"
    }
  },
  "cells": [
    {
      "cell_type": "markdown",
      "source": [
        "Statistics Basics assignment"
      ],
      "metadata": {
        "id": "TrahdPTMnZZp"
      }
    },
    {
      "cell_type": "markdown",
      "source": [
        "Q-1  What is the difference between descriptive statistics and inferential\n",
        "statistics? Explain with examples.\n",
        "\n",
        "\n",
        "  ANS-- 1-  Descriptive Statistics\n",
        "\n",
        "     Descriptive statistics summarize and describe the main features of a dataset. They provide a snapshot of the data without making predictions or generalizations.\n",
        "\n",
        "  * Organize data (tables, charts, graphs)\n",
        "\n",
        "  * Summarize data using:\n",
        "\n",
        "  * Measures of central tendency (mean, median, mode)\n",
        "\n",
        "  * Measures of dispersion (range, variance, standard deviation)\n",
        "\n",
        "  EXAMPLE:-\n",
        "    \n",
        "     Imagine a teacher records the test scores of 30 students in a math exam:\n",
        "\n",
        "     * Mean score: 75\n",
        "\n",
        "     * Median score: 78\n",
        "\n",
        "     * Standard deviation: 10\n",
        "\n",
        "     * Range: 50 to 95\n",
        "\n",
        "  These numbers describe the performance of that specific group of students.\n",
        "\n",
        "\n",
        "\n",
        " 2. Inferential Statistics\n",
        "\n",
        "   Inferential statistics use a sample of data to make generalizations or predictions about a larger population.\n",
        "\n",
        "   * Estimate population parameters (e.g., population mean)\n",
        "\n",
        "   * Hypothesis testing (e.g., t-tests, chi-square tests)\n",
        "\n",
        "   * Confidence intervals\n",
        "\n",
        "   * Regression analysis\n",
        "\n",
        "\n",
        "  EXAMPLE:-\n",
        "\n",
        "    A researcher surveys 100 voters (a sample) to estimate the percentage of all voters in a country who support a particular candidate.\n",
        "\n",
        "    * Based on the sample, they might estimate that 60% of the population supports the candidate, with a margin of error ±4%.\n",
        "\n",
        "    * This is not just describing the 100 people surveyed—it's inferring about the entire population.\n",
        "\n"
      ],
      "metadata": {
        "id": "w4Oyp575ofxz"
      }
    },
    {
      "cell_type": "markdown",
      "source": [
        "Q-2 What is sampling in statistics? Explain the differences between random\n",
        "and stratified sampling.\n",
        "\n",
        "  ANS-- Sampling is the process of selecting a subset (sample) from a larger group (population) to analyze and make conclusions about the entire population. Since studying an entire population can be time-consuming, costly, or impractical, sampling allows researchers to gain insights efficiently and effectively.\n",
        "\n",
        "\n",
        "   1. Random\n",
        "\n",
        "  Every member of the population has an equal chance of being selected. The selection is purely by chance, and there is no grouping or categorization involved.\n",
        "\n",
        "  * Reduces selection bias\n",
        "\n",
        "  * Assumes population is homogeneous (similar)\n",
        "\n",
        "  * Can be done using methods like lottery, random number generators\n",
        "\n",
        "  EXAMPLE:-\n",
        "     \n",
        "      You want to survey 50 students from a school of 500. You assign each student a number and use a random number generator to select 50 students.\n",
        "\n",
        " 2. Stratified Sampling\n",
        "\n",
        "   The population is divided into subgroups (strata) based on a shared characteristic (e.g., gender, age, income level), and random samples are taken from each subgroup proportionally.\n",
        "\n",
        "   * Ensures representation of all key subgroups\n",
        "\n",
        "   * Useful when the population is heterogeneous (diverse)\n",
        "\n",
        "   * More accurate than simple random sampling in certain cases\n",
        "\n",
        "\n",
        "  EXAMPLE:-\n",
        "\n",
        "     In a school of 500 students:\n",
        "\n",
        "     * 300 are girls, 200 are boys\n",
        "\n",
        "     * You want a sample of 50 students\n",
        "\n",
        "     * You divide the population into two strata: girls and boys\n",
        "\n",
        "     * Then randomly select 30 girls and 20 boys to maintain proportional representation"
      ],
      "metadata": {
        "id": "rc1DzHoLq0Vz"
      }
    },
    {
      "cell_type": "markdown",
      "source": [
        "Q- 3 Define mean, median, and mode. Explain why these measures of central\n",
        "tendency are important.\n",
        "\n",
        "  ANS-- Mean, median, and mode are measures of central tendency, which describe the center or typical value in a dataset. They help summarize large amounts of data with a single representative value.\n",
        "\n",
        "     1. MEAN\n",
        "       \n",
        "       DEFINATION:-\n",
        "         \n",
        "         The mean is the sum of all values divided by the number of values.\n",
        "\n",
        "         FROMULA:-\n",
        "          \n",
        "           Mean=SOME OF ALL VALUES\n",
        "                 NUMBER OF VALUES\n",
        "            \n",
        "\n",
        "\n",
        "        EXAMPLE:-Mean=55+7+9+10+14​=545​=9\n",
        "\n",
        "\n",
        "    2. Median\n",
        "\n",
        "     The median is the middle value when data is arranged in ascending or descending order.\n",
        "\n",
        "     * If there is an odd number of values, it’s the middle one.\n",
        "\n",
        "     * If there is an even number of values, it’s the average of the two middle ones.\n",
        "\n",
        "     Example (Odd):\n",
        "       \n",
        "       Data: 3, 5, 7 → Median = 5\n",
        "\n",
        "     Example (Even):\n",
        "\n",
        "        Data: 3, 5, 7, 9 →\n",
        "          \n",
        "          Median=5+7​=6\n",
        "                   2\n",
        "          \n",
        "  3. Mode\n",
        "    \n",
        "    The mode is the value that occurs most frequently in a dataset.\n",
        "\n",
        "      * A dataset can have no mode, one mode (unimodal), or multiple modes (bimodal or multimodal).\n",
        "\n",
        "      Example:\n",
        "\n",
        "         Data: 2, 3, 4, 4, 5, 6 → Mode = 4 (since it appears twice)\n",
        "        \n",
        "     \n"
      ],
      "metadata": {
        "id": "KpXqSpIAso4A"
      }
    },
    {
      "cell_type": "markdown",
      "source": [
        "Q-4 Explain skewness and kurtosis. What does a positive skew imply about the\n",
        "data?\n",
        "\n",
        "  ANS-- 1. Skewness\n",
        "\n",
        "     Skewness measures the asymmetry of a data distribution.\n",
        "\n",
        "     * A perfectly symmetrical distribution (like the normal distribution) has zero skewness.\n",
        "\n",
        "     * Positive skew (right-skewed): The right tail is longer, and the majority of values are concentrated on the left.\n",
        "\n",
        "     * Negative skew (left-skewed): The left tail is longer, and the majority of values are on the right.\n",
        "\n",
        "    EXAMPLE:-\n",
        "\n",
        "       Income data – most people earn low to average incomes, but a few earn very high incomes, pulling the mean up.\n",
        "\n",
        "     2. Kurtosis\n",
        "\n",
        "       Kurtosis measures the \"tailedness\" or peakedness of a data distribution — how heavily the tails differ from a normal distribution.\n",
        "\n",
        "       | Type            | Description                                                          | Shape                 |\n",
        "| --------------- | -------------------------------------------------------------------- | --------------------- |\n",
        "| **Mesokurtic**  | Normal kurtosis (value ≈ 3)                                          | Normal bell curve     |\n",
        "| **Leptokurtic** | High kurtosis (value > 3) <br> More **peaked**, with **heavy tails** | Sharp peak, fat tails |\n",
        "| **Platykurtic** | Low kurtosis (value < 3) <br> More **flat**, with **light tails**    | Flat peak, thin tails |\n"
      ],
      "metadata": {
        "id": "bnVo-rIcvzFJ"
      }
    },
    {
      "cell_type": "markdown",
      "source": [
        "Q-5 Implement a Python program to compute the mean, median, and mode of\n",
        "a given list of numbers.\n",
        "\n",
        "\n",
        "numbers = [12, 15, 12, 18, 19, 12, 20, 22, 19, 19, 24, 24, 24, 26, 28]\n",
        "\n"
      ],
      "metadata": {
        "id": "N1OWZcQdxIHO"
      }
    },
    {
      "cell_type": "code",
      "source": [
        "import statistics\n",
        "\n",
        "# Given list of numbers\n",
        "numbers = [12, 15, 12, 18, 19, 12, 20, 22, 19, 19, 24, 24, 24, 26, 28]\n",
        "\n",
        "# Compute Mean\n",
        "mean_value = statistics.mean(numbers)\n",
        "\n",
        "# Compute Median\n",
        "median_value = statistics.median(numbers)\n",
        "\n",
        "# Compute Mode\n",
        "mode_value = statistics.mode(numbers)\n",
        "\n",
        "# Display results\n",
        "print(\"Mean:\", mean_value)\n",
        "print(\"Median:\", median_value)\n",
        "print(\"Mode:\", mode_value)\n"
      ],
      "metadata": {
        "colab": {
          "base_uri": "https://localhost:8080/"
        },
        "id": "V0a_Q_Y-xmB8",
        "outputId": "ade08076-f89d-4987-e709-10cc86425db5"
      },
      "execution_count": null,
      "outputs": [
        {
          "output_type": "stream",
          "name": "stdout",
          "text": [
            "Mean: 19.6\n",
            "Median: 19\n",
            "Mode: 12\n"
          ]
        }
      ]
    },
    {
      "cell_type": "markdown",
      "source": [
        "Q-6  Compute the covariance and correlation coefficient between the following\n",
        "two datasets provided as lists in Python:\n",
        "list_x = [10, 20, 30, 40, 50]\n",
        "list_y = [15, 25, 35, 45, 60]"
      ],
      "metadata": {
        "id": "o8ZUaaRIxzYB"
      }
    },
    {
      "cell_type": "code",
      "source": [
        "import numpy as np\n",
        "\n",
        "# Given data\n",
        "list_x = [10, 20, 30, 40, 50]\n",
        "list_y = [15, 25, 35, 45, 60]\n",
        "\n",
        "# Convert to NumPy arrays for easy computation\n",
        "x = np.array(list_x)\n",
        "y = np.array(list_y)\n",
        "\n",
        "# Compute Covariance matrix\n",
        "cov_matrix = np.cov(x, y, bias=False)  # bias=False uses sample covariance\n",
        "\n",
        "# Extract covariance value\n",
        "covariance = cov_matrix[0][1]\n",
        "\n",
        "# Compute Correlation Coefficient\n",
        "correlation = np.corrcoef(x, y)[0][1]\n",
        "\n",
        "# Display results\n",
        "print(\"Covariance:\", covariance)\n",
        "print(\"Correlation Coefficient:\", correlation)\n"
      ],
      "metadata": {
        "colab": {
          "base_uri": "https://localhost:8080/"
        },
        "id": "liY8Ya10x6fT",
        "outputId": "6b42177a-0073-49e9-ef5a-a3c7260950b1"
      },
      "execution_count": null,
      "outputs": [
        {
          "output_type": "stream",
          "name": "stdout",
          "text": [
            "Covariance: 275.0\n",
            "Correlation Coefficient: 0.995893206467704\n"
          ]
        }
      ]
    },
    {
      "cell_type": "markdown",
      "source": [
        "Q-7 Write a Python script to draw a boxplot for the following numeric list and\n",
        "identify its outliers. Explain the result:\n",
        "data = [12, 14, 14, 15, 18, 19, 19, 21, 22, 22, 23, 23, 24, 26, 29, 35]"
      ],
      "metadata": {
        "id": "H4YCzMZgyHOE"
      }
    },
    {
      "cell_type": "code",
      "source": [
        "import matplotlib.pyplot as plt\n",
        "import seaborn as sns\n",
        "\n",
        "# Given data\n",
        "data = [12, 14, 14, 15, 18, 19, 19, 21, 22, 22, 23, 23, 24, 26, 29, 35]\n",
        "\n",
        "# Create boxplot\n",
        "plt.figure(figsize=(8, 4))\n",
        "sns.boxplot(data=data, orient=\"h\", color=\"skyblue\")\n",
        "\n",
        "# Add title and labels\n",
        "plt.title(\"Boxplot of Data with Outliers\")\n",
        "plt.xlabel(\"Value\")\n",
        "\n",
        "# Show plot\n",
        "plt.show()\n",
        "\n",
        "\n"
      ],
      "metadata": {
        "colab": {
          "base_uri": "https://localhost:8080/",
          "height": 410
        },
        "id": "sBTGT0IJyOZj",
        "outputId": "ec389031-a45e-4e35-f7fa-54268e4075ee"
      },
      "execution_count": null,
      "outputs": [
        {
          "output_type": "display_data",
          "data": {
            "text/plain": [
              "<Figure size 800x400 with 1 Axes>"
            ],
            "image/png": "[encoded data removed]"
          },
          "metadata": {}
        }
      ]
    },
    {
      "cell_type": "markdown",
      "source": [
        "Result Explanation:-\n",
        "\n",
        "  The boxplot visualizes:\n",
        "\n",
        "Box → Interquartile Range (Q1 to Q3)\n",
        "\n",
        "Line inside box → Median\n",
        "\n",
        "Whiskers → Range within 1.5 × IQR\n",
        "\n",
        "Dots beyond whiskers → Outliers\n",
        "\n",
        "Outlier Detected:\n",
        "\n",
        "The value 35 lies outside the upper bound and is marked as an outlier."
      ],
      "metadata": {
        "id": "HOx8b-fJ1bZ-"
      }
    },
    {
      "cell_type": "markdown",
      "source": [
        "Q-8 You are working as a data analyst in an e-commerce company. The\n",
        "marketing team wants to know if there is a relationship between advertising spend and\n",
        "daily sales.\n",
        "\n",
        "● Explain how you would use covariance and correlation to explore this\n",
        "relationship.\n",
        "● Write Python code to compute the correlation between the two lists:\n",
        "\n",
        "advertising_spend = [200, 250, 300, 400, 500]   \n",
        "daily_sales = [2200, 2450, 2750, 3200, 4000]"
      ],
      "metadata": {
        "id": "UbeyjsQxycVz"
      }
    },
    {
      "cell_type": "markdown",
      "source": [
        "ANS-- As a data analyst, your goal is to determine whether there's a relationship between how much the company spends on advertising and how much it earns in daily sales.\n",
        "\n",
        "| Measure         | Purpose                                                               | Output Interpretation                                                                             |\n",
        "| --------------- | --------------------------------------------------------------------- | ------------------------------------------------------------------------------------------------- |\n",
        "| **Covariance**  | Measures the **direction** of the relationship (positive or negative) | Positive → variables move together<br>Negative → one goes up, the other down                      |\n",
        "| **Correlation** | Measures the **strength and direction** of the linear relationship    | Ranges from -1 to +1 <br>+1 = perfect positive<br>0 = no linear relation<br>-1 = perfect negative |\n",
        "\n"
      ],
      "metadata": {
        "id": "4kl5m7ik0aPg"
      }
    },
    {
      "cell_type": "code",
      "source": [
        "import numpy as np\n",
        "\n",
        "# Given data\n",
        "advertising_spend = [200, 250, 300, 400, 500]\n",
        "daily_sales = [2200, 2450, 2750, 3200, 4000]\n",
        "\n",
        "# Convert to NumPy arrays\n",
        "x = np.array(advertising_spend)\n",
        "y = np.array(daily_sales)\n",
        "\n",
        "# Calculate Covariance matrix\n",
        "cov_matrix = np.cov(x, y, bias=False)\n",
        "covariance = cov_matrix[0][1]\n",
        "\n",
        "# Calculate Correlation coefficient matrix\n",
        "corr_matrix = np.corrcoef(x, y)\n",
        "correlation = corr_matrix[0][1]\n",
        "\n",
        "# Display results\n",
        "print(\"Covariance:\", covariance)\n",
        "print(\"Correlation Coefficient:\", correlation)\n"
      ],
      "metadata": {
        "colab": {
          "base_uri": "https://localhost:8080/"
        },
        "id": "qLLx6pWXymb4",
        "outputId": "e95134ba-cc28-4b03-e779-333876b82729"
      },
      "execution_count": null,
      "outputs": [
        {
          "output_type": "stream",
          "name": "stdout",
          "text": [
            "Covariance: 84875.0\n",
            "Correlation Coefficient: 0.9935824101653329\n"
          ]
        }
      ]
    },
    {
      "cell_type": "markdown",
      "source": [
        "Q-9  Your team has collected customer satisfaction survey data on a scale of\n",
        "1-10 and wants to understand its distribution before launching a new product.\n",
        "\n",
        "● Explain which summary statistics and visualizations (e.g. mean, standard\n",
        "deviation, histogram) you’d use.\n",
        "\n",
        "● Write Python code to create a histogram using Matplotlib for the survey data:\n",
        "\n",
        "survey_scores = [7, 8, 5, 9, 6, 7, 8, 9, 10, 4, 7, 6, 9, 8, 7]"
      ],
      "metadata": {
        "id": "2xWEFXG7y7Nf"
      }
    },
    {
      "cell_type": "markdown",
      "source": [
        "| Measure                | Purpose                                                        |\n",
        "| ---------------------- | -------------------------------------------------------------- |\n",
        "| **Mean**               | Average satisfaction score – shows overall satisfaction level  |\n",
        "| **Median**             | Middle value – useful if data is skewed                        |\n",
        "| **Mode**               | Most common score – identifies popular opinion                 |\n",
        "| **Standard Deviation** | Measures variability – are responses consistent or spread out? |\n",
        "| **Minimum / Maximum**  | Shows score range – lowest and highest satisfaction levels     |\n",
        "\n",
        "\n",
        "2.Visualizations to Use\n",
        "\n",
        "  | Visualization            | Purpose                                                     |\n",
        "| ------------------------ | ----------------------------------------------------------- |\n",
        "| **Histogram**            | Shows the **distribution** of scores (e.g., normal, skewed) |\n",
        "| **Boxplot**              | Highlights **median, quartiles, and outliers**              |\n",
        "| **Bar Chart** (for mode) | Visualizes frequency of each score                          |\n"
      ],
      "metadata": {
        "id": "zdu3BUFVzZ2e"
      }
    },
    {
      "cell_type": "code",
      "source": [
        "import matplotlib.pyplot as plt\n",
        "\n",
        "# Customer survey scores\n",
        "survey_scores = [7, 8, 5, 9, 6, 7, 8, 9, 10, 4, 7, 6, 9, 8, 7]\n",
        "\n",
        "# Create histogram\n",
        "plt.figure(figsize=(8, 5))\n",
        "plt.hist(survey_scores, bins=range(1, 12), edgecolor='black', color='skyblue', align='left')\n",
        "\n",
        "# Add titles and labels\n",
        "plt.title('Customer Satisfaction Score Distribution')\n",
        "plt.xlabel('Satisfaction Score (1–10)')\n",
        "plt.ylabel('Number of Responses')\n",
        "plt.xticks(range(1, 11))  # Show tick marks from 1 to 10\n",
        "\n",
        "# Show the plot\n",
        "plt.show()\n"
      ],
      "metadata": {
        "colab": {
          "base_uri": "https://localhost:8080/",
          "height": 487
        },
        "id": "3CtiKUiv0CCp",
        "outputId": "6e4166a1-4f85-4187-d962-0dbaa5fafaf0"
      },
      "execution_count": null,
      "outputs": [
        {
          "output_type": "display_data",
          "data": {
            "text/plain": [
              "<Figure size 800x500 with 1 Axes>"
            ],
            "image/png": "[encoded data removed]"
          },
          "metadata": {}
        }
      ]
    }
  ]
}